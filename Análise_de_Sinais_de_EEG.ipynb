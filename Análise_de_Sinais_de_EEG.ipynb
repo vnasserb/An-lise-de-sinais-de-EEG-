{
  "cells": [
    {
      "cell_type": "markdown",
      "metadata": {
        "id": "view-in-github",
        "colab_type": "text"
      },
      "source": [
        "<a href=\"https://colab.research.google.com/github/vnasserb/Analise_Sinais_EEG/blob/main/An%C3%A1lise_de_Sinais_de_EEG.ipynb\" target=\"_parent\"><img src=\"https://colab.research.google.com/assets/colab-badge.svg\" alt=\"Open In Colab\"/></a>"
      ]
    },
    {
      "cell_type": "markdown",
      "metadata": {
        "id": "mpsHc_nvHHIt"
      },
      "source": [
        "## **Importação de Bibliotecas**"
      ]
    },
    {
      "cell_type": "code",
      "execution_count": null,
      "metadata": {
        "id": "Umy0SiOCHDk0"
      },
      "outputs": [],
      "source": [
        "import pickle\n",
        "import pandas as pd\n",
        "import numpy as np\n",
        "from imblearn.under_sampling import TomekLinks, RandomUnderSampler, OneSidedSelection\n",
        "from imblearn.over_sampling import SMOTE\n",
        "from sklearn.neighbors import KNeighborsClassifier\n",
        "from sklearn.linear_model import LogisticRegression, LinearRegression\n",
        "from sklearn.svm import SVC\n",
        "from sklearn.neural_network import MLPClassifier\n",
        "from sklearn.ensemble import RandomForestClassifier, RandomForestRegressor\n",
        "from sklearn.tree import DecisionTreeRegressor\n",
        "from sklearn.model_selection import GridSearchCV, train_test_split, cross_val_score, KFold, StratifiedKFold \n",
        "from sklearn.metrics import accuracy_score, confusion_matrix, classification_report\n",
        "from yellowbrick.classifier import ConfusionMatrix\n",
        "from math import floor, ceil\n",
        "from sklearn.preprocessing import StandardScaler\n",
        "import matplotlib.pyplot as plt\n",
        "import warnings\n",
        "import os\n",
        "import scipy.io\n",
        "from scipy.special import binom\n",
        "\n",
        "warnings.filterwarnings(\"ignore\")"
      ]
    },
    {
      "cell_type": "markdown",
      "metadata": {
        "id": "GTsAWSPKHeS-"
      },
      "source": [
        "## **Instalação do mRMR**"
      ]
    },
    {
      "cell_type": "code",
      "execution_count": null,
      "metadata": {
        "id": "TPFMv10qHjMP"
      },
      "outputs": [],
      "source": [
        "#Documentação disponível no repositório: https://github.com/smazzanti/mrmr\n",
        "!pip install mrmr_selection"
      ]
    },
    {
      "cell_type": "markdown",
      "metadata": {
        "id": "xYvbbOA2IPV3"
      },
      "source": [
        "## **Criação das funções que criam a base de características**"
      ]
    },
    {
      "cell_type": "code",
      "execution_count": null,
      "metadata": {
        "id": "UaNpkw6DHju7"
      },
      "outputs": [],
      "source": [
        "# Função que define os parâmetros de Hjorth para um sinal de EEG\n",
        "def Hjorth(signal):\n",
        "\n",
        "  \"\"\"\n",
        "  Activity=m0=σ2a\n",
        "  Complexity=m2=σd/σa\n",
        "  Morbidity=m4=σdd/σdm2\n",
        "\n",
        "  Where:\n",
        "\n",
        "  σ2x is the mean power of a signal x. That is, its variance, if it’s mean is zero.\n",
        "\n",
        "  a, d and dd represent the original signal, its first and second derivatives, respectively.\n",
        "  \"\"\"\n",
        "\n",
        "  # Variância do sinal original\n",
        "  sigma_a_2 = np.var(signal)\n",
        "  \n",
        "  # Desvio Padrão do sinal original\n",
        "  sigma_a = np.sqrt(sigma_a_2)\n",
        "\n",
        "  # Parâmetro m0\n",
        "  m0 = sigma_a_2\n",
        "\n",
        "  # Desvio Padrão da derivada do sinal\n",
        "  sigma_d = np.sqrt(np.var(np.diff(signal))) \n",
        "  \n",
        "  # Parâmetro m2\n",
        "  #m2 = sigma_d / sigma_a\n",
        "  m2 = np.sqrt(np.var(np.diff(signal)) / np.var(signal)) \n",
        "\n",
        "  # Desvio Padrão da segunda derivada do sinal\n",
        "  #sigma_dd = sqrt(var(diff(signal, n=2))) \n",
        "  \n",
        "  # Parâmetro m4\n",
        "  #m4 = (sigma_dd/sigma_d)/m2\n",
        "  m4 = np.sqrt(np.var(np.diff(signal, n=2)) / (np.var(np.diff(signal)) * m2))\n",
        "\n",
        "  return [m0, m2, m4]\n",
        "\n",
        "# Função que cria os parâmetros Hjorth e HOC\n",
        "# K: Quantidade de filtros\n",
        "def Cria_Base_Hjorth_HOC(Arquivos, K = 12):\n",
        "\n",
        "  Data = []\n",
        "\n",
        "  # Para cada um dos arquivos\n",
        "  for f in range(len(Arquivos)):\n",
        "\n",
        "    # Abrir o arquivo .mat, transformá-lo em numpy array\n",
        "    EEG = scipy.io.loadmat(Arquivos[f])['data']\n",
        "\n",
        "    # Vetor que irá armazenar os valores de Dk\n",
        "    D = []\n",
        "\n",
        "    # Para cada k, onde 1 <= k <= K\n",
        "    for k in range(1,K+1):\n",
        "\n",
        "      # Número de amostras = Número de colunas da Matriz\n",
        "      N = EEG.shape[1]              \n",
        "\n",
        "      # Quantidade de canais = Número de linhas da Matriz                                            \n",
        "      canais = EEG.shape[0]      \n",
        "\n",
        "      # Matriz canais x (N - k) de zeros                                       \n",
        "      Z = np.zeros(canais * (N - k)).reshape(canais , (N - k))                  \n",
        "      \n",
        "      # Para cada 1 <= j <= k\n",
        "      for j in range(1,k+1):\n",
        "\n",
        "        # Calcular os parâmetros HOC para cada canal\n",
        "        # binom calcula o binômio de Newton para dois valores inteiros\n",
        "        termo = binom(k - 1, j - 1) * ((-1) ** (j-1)) * EEG\n",
        "\n",
        "        # A matriz deve ter dimensões canais x (N - k) para a soma ocorrer corretamente\n",
        "        Z = Z + termo[0:canais,  k-j+1 : N-j+1]\n",
        "\n",
        "      # Função que transforma os valores em binários\n",
        "      Binario = np.vectorize(lambda x: 1 if x > 0 else 0)\n",
        "\n",
        "      # Transformação do vetor resultante do somatório em valores binários\n",
        "      X = Binario(Z)\n",
        "\n",
        "      # Contagem da quantidade de vezes que a função toca o 0 em cada canal \n",
        "      # Dk é um vetor de dimensão 1 x canais, onde Dk[i] é o número de vezes que o sinal do i-ésimo canal toca o 0\n",
        "      # A função diff calcula a diferença entre elementos de duas posições consecutivas do vetor\n",
        "      # A função abs calcula o valor absoluto de todos os elementos do vetor\n",
        "      # A função sum calcula a soma de todos os elementos do vetor. O argumento axis = 1 define que deve ser feita a soma de cada linha da matriz\n",
        "      Dk = np.sum(np.abs(np.diff(X)), axis = 1)\n",
        "\n",
        "      # Adição de Dk ao vetor de Ds\n",
        "      D.append(Dk)\n",
        "\n",
        "    # D é um vetor de dimensão k x canais, então deve ser transformado em um vetor 1 x (k * canais)\n",
        "    Parametros_HOC = np.array(D).reshape(K * canais).tolist()\n",
        "\n",
        "    # Cálculo dos parâmetros de Hjorth para cada canal\n",
        "    Parametros_Hjorth = list(map(Hjorth, EEG.tolist()))\n",
        "\n",
        "    # Transformação de uma lista de listas em uma lista 1D\n",
        "    Parametros_Hjorth = [item for sublist in Parametros_Hjorth for item in sublist]\n",
        "\n",
        "    # Adicionar os parâmetros para cada uma das listas dependendo do número do vídeo\n",
        "    # 1: Positivo e 0: Negativo\n",
        "    if 'v1' in Arquivos[f] or 'v3' in Arquivos[f] or 'v6' in Arquivos[f]:\n",
        "      Data.append([1] + Parametros_HOC + Parametros_Hjorth)\n",
        "    else:\n",
        "      Data.append([0] + Parametros_HOC + Parametros_Hjorth)\n",
        "\n",
        "  return pd.DataFrame(Data)"
      ]
    },
    {
      "cell_type": "markdown",
      "metadata": {
        "id": "UKcEwwoqInaZ"
      },
      "source": [
        "## **Criação da base de características**"
      ]
    },
    {
      "cell_type": "code",
      "execution_count": null,
      "metadata": {
        "id": "sWSUcOcXIrhz"
      },
      "outputs": [],
      "source": [
        "# Caminho dos arquivos .mat no Drive\n",
        "path = \"/content/drive/MyDrive/PGC\"\n",
        "\n",
        "# Utilização da função map para criar o caminho completo para cada um dos arquivos\n",
        "# Ex. O dataset h1_v1_a_AR.mat aparecerá como /content/drive/MyDrive/PGC/h1_v1_a_AR.mat\n",
        "Arquivos = list(map(lambda x: path + \"/\" + x, os.listdir(path)))\n",
        "\n",
        "# Criação do Dataset\n",
        "\"\"\"\n",
        "Dataset = []\n",
        "for i in range(8,13,1):\n",
        "  Dataset.append(Cria_Base_Hjorth_HOC(Arquivos, K = i))\n",
        "\n",
        "Dataset_k8 = Cria_Base_Hjorth_HOC(Arquivos, K = 8)\n",
        "Dataset_k9 = Cria_Base_Hjorth_HOC(Arquivos, K = 9)\n",
        "Dataset_k10 = Cria_Base_Hjorth_HOC(Arquivos, K = 10)\n",
        "Dataset_k11 = Cria_Base_Hjorth_HOC(Arquivos, K = 11)\n",
        "Dataset_k12 = Cria_Base_Hjorth_HOC(Arquivos, K = 12)\n",
        "\"\"\"\n",
        "Dataset = Cria_Base_Hjorth_HOC(Arquivos, K = 10)\n",
        "\n",
        "scaler = StandardScaler()\n",
        "Previsores = pd.DataFrame(scaler.fit_transform(Dataset.iloc[:, 1:].values))\n",
        "\n",
        "pick_insert = open('/content/drive/MyDrive/DatasetPGC.pkl','wb')\n",
        "pickle.dump(Dataset.values, pick_insert)\n",
        "pick_insert.close()\n",
        "\n",
        "pick_insert = open('/content/drive/MyDrive/PrevisoresPGC.pkl','wb')\n",
        "pickle.dump(Previsores.values, pick_insert)\n",
        "pick_insert.close()\n",
        "\n",
        "pickle.dump(scaler, open('/content/drive/MyDrive/scalerPGC.pkl','wb'))"
      ]
    },
    {
      "cell_type": "markdown",
      "metadata": {
        "id": "sWqKZxoJKBeA"
      },
      "source": [
        "## **Rankeamento das principais características via mRMR**"
      ]
    },
    {
      "cell_type": "code",
      "execution_count": null,
      "metadata": {
        "colab": {
          "base_uri": "https://localhost:8080/"
        },
        "id": "9t15DLwlKJGd",
        "outputId": "0c0d800a-8a90-4537-b329-906ef6e0ed52"
      },
      "outputs": [
        {
          "output_type": "stream",
          "name": "stderr",
          "text": [
            "100%|██████████| 247/247 [00:13<00:00, 18.12it/s]\n"
          ]
        }
      ],
      "source": [
        "from mrmr import mrmr_classif\n",
        "\n",
        "ranking = mrmr_classif(X=Previsores, y=Dataset.iloc[:, 0], K=len(Dataset.values[0]) - 1)\n",
        "\n",
        "pick_insert = open('/content/drive/MyDrive/RankingFeatures','wb')\n",
        "pickle.dump(ranking, pick_insert)\n",
        "pick_insert.close()"
      ]
    },
    {
      "cell_type": "code",
      "execution_count": null,
      "metadata": {
        "id": "CYfYnnhraK-t"
      },
      "outputs": [],
      "source": [
        "# Porcentagem do total de características a ser utilizada\n",
        "k = floor(0.1 * len(ranking))"
      ]
    },
    {
      "cell_type": "markdown",
      "metadata": {
        "id": "Fu9pLko8M__C"
      },
      "source": [
        "## **Divisão dos dados em treino e teste**"
      ]
    },
    {
      "cell_type": "code",
      "execution_count": null,
      "metadata": {
        "id": "AgMojqF5NHBo"
      },
      "outputs": [],
      "source": [
        "X = Dataset[ranking[:k]].values\n",
        "Y = Dataset.iloc[:, 0].values\n",
        "\n",
        "X_train, X_test, Y_train, Y_test = train_test_split(X, Y, test_size = 0.3, random_state = 0)"
      ]
    },
    {
      "cell_type": "code",
      "execution_count": null,
      "metadata": {
        "id": "c2TCF_w8yoY_"
      },
      "outputs": [],
      "source": [
        "np.unique(Y_train, return_counts = True)"
      ]
    },
    {
      "cell_type": "markdown",
      "metadata": {
        "id": "WsYlf6EtZ7BB"
      },
      "source": [
        "## **Grid Search**"
      ]
    },
    {
      "cell_type": "markdown",
      "metadata": {
        "id": "yBNgotr0aXOl"
      },
      "source": [
        "### **Parâmetros**"
      ]
    },
    {
      "cell_type": "code",
      "execution_count": null,
      "metadata": {
        "id": "zHh9T5XoaHpv"
      },
      "outputs": [],
      "source": [
        "lrParameters = {'C': np.arange(0.001, 0.01, 0.02), \n",
        "                'penalty' : ['l1', 'l2', 'elasticnet', None],\n",
        "                'solver':['lbfgs', 'liblinear', 'newton-cg', 'newton-cholesky', 'sag', 'saga'],\n",
        "                'warm_start': [True, False],\n",
        "                'fit_intercept': [True, False],\n",
        "                'max_iter': np.arange(200,2000,200)\n",
        "                #[100, 200, 300, 400, 500]\n",
        "               }\n",
        "\n",
        "knnParameters = {'n_neighbors':np.arange(3,18,1),\n",
        "                 'p': [1,2]\n",
        "                 }\n",
        "\n",
        "svmParameters = {'C': [1.0, 1.5, 2.0],\n",
        "                 'kernel':['linear', 'poly', 'rbf', 'sigmoid'], \n",
        "                 #'gamma': ['scale', 'auto'],\n",
        "                 'tol': [10**-1, 10**-2, 10**-3]\n",
        "                }\n",
        "\n",
        "rfParameters = {'n_estimators': np.arange(50,500,10),\n",
        "                 'criterion':['gini', 'entropy']\n",
        "                }\n",
        "\n",
        "\n",
        "mlpParameters = {'hidden_layer_sizes':(int(floor(k/2)), int(floor(k/2))),\n",
        "                 #'activation':['identity', 'logistic', 'tanh', 'relu'],\n",
        "                 'activation': ['relu'],\n",
        "                 'solver': ['lbfgs', 'sgd', 'adam'],\n",
        "                 'max_iter': np.arange(200,2000,200),\n",
        "                 'batch_size':np.arange(4,21,2),\n",
        "                 'tol': [10**-1, 10**-2, 10**-3],\n",
        "                 'learning_rate': ['constant', 'invscaling', 'adaptive'],\n",
        "                 'learning_rate_init': np.arange(0.0001, 0.001, 0.0002)\n",
        "                 #'early_stopping': [True]\n",
        "                }"
      ]
    },
    {
      "cell_type": "markdown",
      "metadata": {
        "id": "W0fHiMofaboI"
      },
      "source": [
        "### **Regressão Logística**"
      ]
    },
    {
      "cell_type": "code",
      "execution_count": null,
      "metadata": {
        "colab": {
          "base_uri": "https://localhost:8080/"
        },
        "id": "z8WEeh1FaeBX",
        "outputId": "ad0e8d12-403c-4e38-9d38-849ad2d77ebd"
      },
      "outputs": [
        {
          "data": {
            "text/plain": [
              "({'C': 0.001,\n",
              "  'fit_intercept': True,\n",
              "  'max_iter': 200,\n",
              "  'penalty': 'l2',\n",
              "  'solver': 'sag',\n",
              "  'warm_start': True},\n",
              " 0.5326315789473685)"
            ]
          },
          "execution_count": 35,
          "metadata": {},
          "output_type": "execute_result"
        }
      ],
      "source": [
        "grid_search_lr = GridSearchCV(estimator = LogisticRegression(), param_grid=lrParameters)\n",
        "grid_search_lr.fit(X_train, Y_train)\n",
        "grid_search_lr.best_params_, grid_search_lr.best_score_"
      ]
    },
    {
      "cell_type": "markdown",
      "metadata": {
        "id": "QLmGQQMbatP9"
      },
      "source": [
        "### **SVM**"
      ]
    },
    {
      "cell_type": "code",
      "execution_count": null,
      "metadata": {
        "id": "w3sZKwSNa460"
      },
      "outputs": [],
      "source": [
        "grid_search_svm = GridSearchCV(estimator = SVC(), param_grid=svmParameters)\n",
        "grid_search_svm.fit(X_train, Y_train)\n",
        "grid_search_svm.best_params_, grid_search_svm.best_score_"
      ]
    },
    {
      "cell_type": "markdown",
      "metadata": {
        "id": "vmN8uj-1auq_"
      },
      "source": [
        "### **KNN**"
      ]
    },
    {
      "cell_type": "code",
      "execution_count": null,
      "metadata": {
        "colab": {
          "base_uri": "https://localhost:8080/"
        },
        "id": "b07Qy-75bI7I",
        "outputId": "656bafc7-4344-4827-db1f-c6cf3b195dff"
      },
      "outputs": [
        {
          "data": {
            "text/plain": [
              "({'n_neighbors': 13, 'p': 2}, 0.6152631578947367)"
            ]
          },
          "execution_count": 36,
          "metadata": {},
          "output_type": "execute_result"
        }
      ],
      "source": [
        "grid_search_knn = GridSearchCV(estimator = KNeighborsClassifier(), param_grid=knnParameters)\n",
        "grid_search_knn.fit(X_train, Y_train)\n",
        "grid_search_knn.best_params_, grid_search_knn.best_score_"
      ]
    },
    {
      "cell_type": "markdown",
      "metadata": {
        "id": "a4uWyVANawl_"
      },
      "source": [
        "### **Random Forest**"
      ]
    },
    {
      "cell_type": "code",
      "execution_count": null,
      "metadata": {
        "colab": {
          "base_uri": "https://localhost:8080/"
        },
        "id": "H5AbgiMCbU3a",
        "outputId": "2363208c-d53f-489e-8193-3669e9193c7b"
      },
      "outputs": [
        {
          "output_type": "execute_result",
          "data": {
            "text/plain": [
              "({'criterion': 'entropy', 'n_estimators': 160}, 0.5731578947368421)"
            ]
          },
          "metadata": {},
          "execution_count": 29
        }
      ],
      "source": [
        "grid_search_rf = GridSearchCV(estimator = RandomForestClassifier(), param_grid=rfParameters)\n",
        "grid_search_rf.fit(X_train, Y_train)\n",
        "grid_search_rf.best_params_, grid_search_rf.best_score_"
      ]
    },
    {
      "cell_type": "markdown",
      "metadata": {
        "id": "QXeksEEaa0To"
      },
      "source": [
        "### **Redes Neurais**"
      ]
    },
    {
      "cell_type": "code",
      "execution_count": null,
      "metadata": {
        "colab": {
          "base_uri": "https://localhost:8080/"
        },
        "id": "db9_W6o-bcaY",
        "outputId": "2e559a6f-4a6f-4dbb-fea2-ef4856ced3d2"
      },
      "outputs": [
        {
          "output_type": "execute_result",
          "data": {
            "text/plain": [
              "({'activation': 'relu',\n",
              "  'batch_size': 8,\n",
              "  'hidden_layer_sizes': 12,\n",
              "  'learning_rate': 'invscaling',\n",
              "  'learning_rate_init': 0.0009000000000000002,\n",
              "  'max_iter': 400,\n",
              "  'solver': 'adam',\n",
              "  'tol': 0.001},\n",
              " 0.68)"
            ]
          },
          "metadata": {},
          "execution_count": 9
        }
      ],
      "source": [
        "grid_search_mlp = GridSearchCV(estimator = MLPClassifier(), param_grid=mlpParameters)\n",
        "grid_search_mlp.fit(X_train, Y_train)\n",
        "grid_search_mlp.best_params_, grid_search_mlp.best_score_"
      ]
    },
    {
      "cell_type": "markdown",
      "metadata": {
        "id": "0w9b2krJNg5L"
      },
      "source": [
        "## **Criação e treino dos Classificadores**"
      ]
    },
    {
      "cell_type": "markdown",
      "metadata": {
        "id": "i6JWNrhJ_3Cr"
      },
      "source": [
        "### **Criação dos classificadores**"
      ]
    },
    {
      "cell_type": "code",
      "execution_count": null,
      "metadata": {
        "id": "nIfLUPCCNkuH"
      },
      "outputs": [],
      "source": [
        "lr = LogisticRegression(C = 1.0, max_iter = 100, solver = 'sag', random_state = 0)\n",
        "svm = SVC(C = 2.0, kernel' = 'rbf', 'tol' = 0.1, random_state = 0)\n",
        "knn = KNeighborsClassifier(n_neighbors = 13, p = 2, random_state = 0)\n",
        "rf = RandomForestClassifier(criterion = 'entropy', n_estimators = 90, random_state = 0)\n",
        "mlp = MLPClassifier(activation = 'relu', batch_size: 20, hidden_layer_sizes = 12, learning_rate: 'invscaling', max_iter: 400, solver: 'adam', tol = 0.001, random_state = 0)\n",
        "\n",
        "lr.fit(X_train,Y_train)\n",
        "svm.fit(X_train,Y_train)\n",
        "knn.fit(X_train,Y_train)\n",
        "rf.fit(X_train,Y_train)\n",
        "mlp.fit(X_train,Y_train)"
      ]
    },
    {
      "cell_type": "markdown",
      "metadata": {
        "id": "hWpNpWxC__Cs"
      },
      "source": [
        "### **K-Fold Cross Validation**"
      ]
    },
    {
      "cell_type": "code",
      "execution_count": null,
      "metadata": {
        "id": "M_JIVxCpyDdL"
      },
      "outputs": [],
      "source": [
        "lr = LogisticRegression(C = 0.001, fit_intercept = True, max_iter = 200, penalty = 'l2', solver = 'sag', warm_start = True)\n",
        "svm = SVC(C = 2.0, kernel = 'rbf', tol = 0.01)\n",
        "knn = KNeighborsClassifier(n_neighbors = 13, p = 2)\n",
        "rf = RandomForestClassifier(criterion = 'entropy', n_estimators = 160)\n",
        "mlp = MLPClassifier(activation = 'relu', batch_size = 8, hidden_layer_sizes = (2,2),\n",
        "  learning_rate = 'invscaling', learning_rate_init = 0.0009000000000000002,\n",
        "  max_iter = 400, solver = 'adam', tol = 0.001)"
      ]
    },
    {
      "cell_type": "code",
      "execution_count": null,
      "metadata": {
        "id": "cdzswB2VALB3"
      },
      "outputs": [],
      "source": [
        "X = Dataset[ranking[:k]].values\n",
        "Y = Dataset.iloc[:, 0].values\n",
        "\n",
        "lr_means = []\n",
        "svm_means = []\n",
        "knn_means = []\n",
        "rf_means = []\n",
        "mlp_means = []\n",
        "\n",
        "for i in range(30):\n",
        "  kfold = StratifiedKFold(n_splits = 10, shuffle = True, random_state = i)\n",
        "  scores_lr = cross_val_score(lr, X, Y, cv = kfold)\n",
        "  scores_svm = cross_val_score(svm, X, Y, cv = kfold)\n",
        "  scores_knn = cross_val_score(knn, X, Y, cv = kfold)\n",
        "  scores_rf = cross_val_score(rf, X, Y, cv = kfold)\n",
        "  scores_mlp = cross_val_score(mlp, X, Y, cv = kfold)\n",
        "\n",
        "  lr_means.append(scores_lr.mean()) \n",
        "  svm_means.append(scores_svm.mean())\n",
        "  knn_means.append(scores_knn.mean())\n",
        "  rf_means.append(scores_rf.mean())\n",
        "  mlp_means.append(scores_mlp.mean())"
      ]
    },
    {
      "cell_type": "markdown",
      "metadata": {
        "id": "fG40pUS4S68m"
      },
      "source": [
        "## **Avaliação dos Classificadores**"
      ]
    },
    {
      "cell_type": "markdown",
      "metadata": {
        "id": "NDXiPAdOUWiW"
      },
      "source": [
        "### **Gráfico de Acurácias**"
      ]
    },
    {
      "cell_type": "code",
      "execution_count": null,
      "metadata": {
        "id": "P4l1afsrTr2v",
        "colab": {
          "base_uri": "https://localhost:8080/",
          "height": 459
        },
        "outputId": "53c1dcfe-5ca4-4fba-c125-fab19b496158"
      },
      "outputs": [
        {
          "output_type": "display_data",
          "data": {
            "text/plain": [
              "<Figure size 1200x500 with 1 Axes>"
            ],
            "image/png": "[encoded data removed]"
          },
          "metadata": {}
        }
      ],
      "source": [
        "acuracias = [np.mean(lr_means), np.mean(svm_means), np.mean(knn_means), np.mean(rf_means), np.mean(mlp_means)]\n",
        "desvios = [np.std(lr_means), np.std(svm_means), np.std(knn_means), np.std(rf_means), np.std(mlp_means)]\n",
        "#models = [\"Logistic Regression\", \"SVM\", \"KNN\", \"Random Forest\", \"Neural Networks\"]\n",
        "\n",
        "#acuracias = [lr.score(X_test,Y_test), svm.score(X_test,Y_test), knn.score(X_test,Y_test), rf.score(X_test,Y_test), mlp.score(X_test,Y_test)]\n",
        "modelos = [\"Regressão Logística\", \"SVM\", \"KNN\", \"Random Forest\", \"Redes Neurais\"]\n",
        "\n",
        "fig = plt.figure(figsize = (12, 5))\n",
        "#plt.bar(modelos, acuracias, color = ['mediumblue', 'lime', 'red', 'gold', 'darkcyan'])\n",
        "#plt.grid(visible=None, which='minor', axis='y')\n",
        "plt.bar(modelos, acuracias, yerr=desvios, color = ['mediumblue', 'lime', 'red', 'gold', 'darkcyan'])\n",
        "plt.ylabel('Acurácia', {'fontsize': 12, 'fontweight': 'bold'})\n",
        "plt.xlabel('Modelo', {'fontsize': 12, 'fontweight': 'bold'})\n",
        "plt.title('Acurácias obtidas por tipo de Classificador', {'fontsize': 15, 'fontweight': 'bold'})\n",
        "plt.yticks(np.arange(0, 1, .05))\n",
        "\n",
        "\n",
        "for i in range(5):\n",
        "  plt.text(-0.1 + 1*i, acuracias[i] + 0.045, s = str(round(acuracias[i], 2)), fontweight='bold')\n",
        "  #plt.text(-0.1 + 1*i, acuracias[i] - 0.3, s = str(round(acuracias[i], 2)), fontweight='bold', color = 'white')\n",
        "\n",
        "plt.show()"
      ]
    },
    {
      "cell_type": "markdown",
      "metadata": {
        "id": "Z6tVOpy8S-0i"
      },
      "source": [
        "### **Regressão Logística**"
      ]
    },
    {
      "cell_type": "code",
      "execution_count": null,
      "metadata": {
        "id": "xDF4LlNoTVsw",
        "colab": {
          "base_uri": "https://localhost:8080/",
          "height": 318
        },
        "outputId": "025eb562-58c0-4a1f-c5ee-e784899785ad"
      },
      "outputs": [
        {
          "output_type": "display_data",
          "data": {
            "text/plain": [
              "<Figure size 300x300 with 1 Axes>"
            ],
            "image/png": "[encoded data removed]"
          },
          "metadata": {}
        },
        {
          "output_type": "execute_result",
          "data": {
            "text/plain": [
              "<Axes: title={'center': 'Regressão Logística'}, xlabel='Predicted Class', ylabel='True Class'>"
            ]
          },
          "metadata": {},
          "execution_count": 29
        }
      ],
      "source": [
        "plt.figure(figsize=(3, 3))\n",
        "cm = ConfusionMatrix(lr, title = \"Regressão Logística\", classes = ['N', 'P'])\n",
        "cm.fit(X_train, Y_train)\n",
        "cm.score(X_test, Y_test)\n",
        "cm.show()"
      ]
    },
    {
      "cell_type": "code",
      "execution_count": null,
      "metadata": {
        "id": "5yFaePn6TobT",
        "colab": {
          "base_uri": "https://localhost:8080/"
        },
        "outputId": "da9a6b09-92ff-416d-c799-5de688871c04"
      },
      "outputs": [
        {
          "output_type": "stream",
          "name": "stdout",
          "text": [
            "              precision    recall  f1-score   support\n",
            "\n",
            "           0       0.80      0.62      0.70        26\n",
            "           1       0.55      0.75      0.63        16\n",
            "\n",
            "    accuracy                           0.67        42\n",
            "   macro avg       0.67      0.68      0.66        42\n",
            "weighted avg       0.70      0.67      0.67        42\n",
            "\n"
          ]
        }
      ],
      "source": [
        "previsoes = lr.predict(X_test)\n",
        "print(classification_report(previsoes, Y_test))"
      ]
    },
    {
      "cell_type": "markdown",
      "metadata": {
        "id": "0aR4YB70TD1E"
      },
      "source": [
        "### **SVM**"
      ]
    },
    {
      "cell_type": "code",
      "execution_count": null,
      "metadata": {
        "id": "5feTY3f0T0p4",
        "colab": {
          "base_uri": "https://localhost:8080/",
          "height": 318
        },
        "outputId": "2a0581f0-7a4b-4a72-bcfb-3ba8b43a476b"
      },
      "outputs": [
        {
          "output_type": "display_data",
          "data": {
            "text/plain": [
              "<Figure size 300x300 with 1 Axes>"
            ],
            "image/png": "[encoded data removed]"
          },
          "metadata": {}
        },
        {
          "output_type": "execute_result",
          "data": {
            "text/plain": [
              "<Axes: title={'center': 'SVM'}, xlabel='Predicted Class', ylabel='True Class'>"
            ]
          },
          "metadata": {},
          "execution_count": 30
        }
      ],
      "source": [
        "plt.figure(figsize=(3, 3))\n",
        "cm = ConfusionMatrix(svm, title = \"SVM\", classes = ['N', 'P'])\n",
        "cm.fit(X_train, Y_train)\n",
        "cm.score(X_test, Y_test)\n",
        "cm.show()"
      ]
    },
    {
      "cell_type": "code",
      "execution_count": null,
      "metadata": {
        "id": "OVdHKTs0T3vF",
        "colab": {
          "base_uri": "https://localhost:8080/"
        },
        "outputId": "61a3d351-30f0-4913-93e8-76cfae585f75"
      },
      "outputs": [
        {
          "output_type": "stream",
          "name": "stdout",
          "text": [
            "              precision    recall  f1-score   support\n",
            "\n",
            "           0       0.80      0.57      0.67        28\n",
            "           1       0.45      0.71      0.56        14\n",
            "\n",
            "    accuracy                           0.62        42\n",
            "   macro avg       0.63      0.64      0.61        42\n",
            "weighted avg       0.68      0.62      0.63        42\n",
            "\n"
          ]
        }
      ],
      "source": [
        "previsoes = svm.predict(X_test)\n",
        "print(classification_report(previsoes, Y_test))"
      ]
    },
    {
      "cell_type": "markdown",
      "metadata": {
        "id": "PvOXxztQTFmg"
      },
      "source": [
        "### **KNN**"
      ]
    },
    {
      "cell_type": "code",
      "execution_count": null,
      "metadata": {
        "id": "tgNgemq3T5XL",
        "colab": {
          "base_uri": "https://localhost:8080/",
          "height": 318
        },
        "outputId": "faee5a64-3ba7-452d-c45a-dc849f866a06"
      },
      "outputs": [
        {
          "output_type": "display_data",
          "data": {
            "text/plain": [
              "<Figure size 300x300 with 1 Axes>"
            ],
            "image/png": "[encoded data removed]"
          },
          "metadata": {}
        },
        {
          "output_type": "execute_result",
          "data": {
            "text/plain": [
              "<Axes: title={'center': 'KNN'}, xlabel='Predicted Class', ylabel='True Class'>"
            ]
          },
          "metadata": {},
          "execution_count": 31
        }
      ],
      "source": [
        "plt.figure(figsize=(3, 3))\n",
        "cm = ConfusionMatrix(knn, title = \"KNN\", classes = ['N', 'P'])\n",
        "cm.fit(X_train, Y_train)\n",
        "cm.score(X_test, Y_test)\n",
        "cm.show()"
      ]
    },
    {
      "cell_type": "code",
      "execution_count": null,
      "metadata": {
        "id": "QsmMksPKT8w5",
        "colab": {
          "base_uri": "https://localhost:8080/"
        },
        "outputId": "e16e447a-8c2b-4646-cf34-1d4666685fc6"
      },
      "outputs": [
        {
          "output_type": "stream",
          "name": "stdout",
          "text": [
            "              precision    recall  f1-score   support\n",
            "\n",
            "           0       0.55      0.58      0.56        19\n",
            "           1       0.64      0.61      0.62        23\n",
            "\n",
            "    accuracy                           0.60        42\n",
            "   macro avg       0.59      0.59      0.59        42\n",
            "weighted avg       0.60      0.60      0.60        42\n",
            "\n"
          ]
        }
      ],
      "source": [
        "previsoes = knn.predict(X_test)\n",
        "print(classification_report(previsoes, Y_test))"
      ]
    },
    {
      "cell_type": "markdown",
      "metadata": {
        "id": "XZSYAa11TJQZ"
      },
      "source": [
        "### **Random Forest**"
      ]
    },
    {
      "cell_type": "code",
      "execution_count": null,
      "metadata": {
        "id": "vj1yUuviT_zf",
        "colab": {
          "base_uri": "https://localhost:8080/",
          "height": 318
        },
        "outputId": "bba1080d-0279-4e08-b613-34676473385f"
      },
      "outputs": [
        {
          "output_type": "display_data",
          "data": {
            "text/plain": [
              "<Figure size 300x300 with 1 Axes>"
            ],
            "image/png": "[encoded data removed]"
          },
          "metadata": {}
        },
        {
          "output_type": "execute_result",
          "data": {
            "text/plain": [
              "<Axes: title={'center': 'Random Forest'}, xlabel='Predicted Class', ylabel='True Class'>"
            ]
          },
          "metadata": {},
          "execution_count": 32
        }
      ],
      "source": [
        "plt.figure(figsize=(3, 3))\n",
        "cm = ConfusionMatrix(rf, title = \"Random Forest\", classes = ['N', 'P'])\n",
        "cm.fit(X_train, Y_train)\n",
        "cm.score(X_test, Y_test)\n",
        "cm.show()"
      ]
    },
    {
      "cell_type": "code",
      "execution_count": null,
      "metadata": {
        "id": "SY62Dpl4UCJp",
        "colab": {
          "base_uri": "https://localhost:8080/"
        },
        "outputId": "0d3703d7-48a5-4d7d-8ac9-4a897d4f0815"
      },
      "outputs": [
        {
          "output_type": "stream",
          "name": "stdout",
          "text": [
            "              precision    recall  f1-score   support\n",
            "\n",
            "           0       0.60      0.60      0.60        20\n",
            "           1       0.64      0.64      0.64        22\n",
            "\n",
            "    accuracy                           0.62        42\n",
            "   macro avg       0.62      0.62      0.62        42\n",
            "weighted avg       0.62      0.62      0.62        42\n",
            "\n"
          ]
        }
      ],
      "source": [
        "previsoes = rf.predict(X_test)\n",
        "print(classification_report(previsoes, Y_test))"
      ]
    },
    {
      "cell_type": "markdown",
      "metadata": {
        "id": "Smw6fMFhTNBP"
      },
      "source": [
        "### **Redes Neurais**"
      ]
    },
    {
      "cell_type": "code",
      "execution_count": null,
      "metadata": {
        "id": "Pl1MZVPPUEiB",
        "colab": {
          "base_uri": "https://localhost:8080/",
          "height": 318
        },
        "outputId": "5349a2c6-aa93-46a3-aa4f-891b842e3931"
      },
      "outputs": [
        {
          "output_type": "display_data",
          "data": {
            "text/plain": [
              "<Figure size 300x300 with 1 Axes>"
            ],
            "image/png": "[encoded data removed]"
          },
          "metadata": {}
        },
        {
          "output_type": "execute_result",
          "data": {
            "text/plain": [
              "<Axes: title={'center': 'Redes Neurais'}, xlabel='Predicted Class', ylabel='True Class'>"
            ]
          },
          "metadata": {},
          "execution_count": 33
        }
      ],
      "source": [
        "plt.figure(figsize=(3, 3))\n",
        "cm = ConfusionMatrix(mlp, title = \"Redes Neurais\", classes = ['N', 'P'])\n",
        "cm.fit(X_train, Y_train)\n",
        "cm.score(X_test, Y_test)\n",
        "cm.show()"
      ]
    },
    {
      "cell_type": "code",
      "execution_count": null,
      "metadata": {
        "id": "ybZ6BF99UGlt",
        "colab": {
          "base_uri": "https://localhost:8080/"
        },
        "outputId": "ed2a3e4f-302f-4aa9-a1bf-ef161919b05e"
      },
      "outputs": [
        {
          "output_type": "stream",
          "name": "stdout",
          "text": [
            "              precision    recall  f1-score   support\n",
            "\n",
            "           0       1.00      0.48      0.65        42\n",
            "           1       0.00      0.00      0.00         0\n",
            "\n",
            "    accuracy                           0.48        42\n",
            "   macro avg       0.50      0.24      0.32        42\n",
            "weighted avg       1.00      0.48      0.65        42\n",
            "\n"
          ]
        }
      ],
      "source": [
        "previsoes = mlp.predict(X_test)\n",
        "print(classification_report(previsoes, Y_test))"
      ]
    }
  ],
  "metadata": {
    "colab": {
      "toc_visible": true,
      "provenance": [],
      "mount_file_id": "1dGlyeLamupRdRLjAHj7gsuFF5upOIO8H",
      "authorship_tag": "ABX9TyO07iqpcilszyjpJTl39chB",
      "include_colab_link": true
    },
    "kernelspec": {
      "display_name": "Python 3",
      "name": "python3"
    },
    "language_info": {
      "name": "python"
    }
  },
  "nbformat": 4,
  "nbformat_minor": 0
}